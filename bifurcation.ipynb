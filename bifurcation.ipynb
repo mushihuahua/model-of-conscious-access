{
 "cells": [
  {
   "cell_type": "code",
   "execution_count": 3,
   "metadata": {},
   "outputs": [],
   "source": [
    "import matplotlib.pyplot as plt\n",
    "import numpy as np\n",
    "from numpy.polynomial.polynomial import polyfit\n",
    "from brian2 import ms, second, pA, nA, Hz, amp\n",
    "import scipy.io as sio\n",
    "import matplotlib as mpl\n",
    "from scipy.stats import qmc\n",
    "\n",
    "mpl.rcParams['axes.spines.right'] = False\n",
    "mpl.rcParams['axes.spines.top'] = False\n",
    "\n",
    "from LongRangeModel import LongRangeModel\n",
    "from Params import Params\n",
    "from utils.cache import Cache"
   ]
  },
  {
   "cell_type": "code",
   "execution_count": 1,
   "metadata": {},
   "outputs": [
    {
     "ename": "NameError",
     "evalue": "name 'Cache' is not defined",
     "output_type": "error",
     "traceback": [
      "\u001b[31m---------------------------------------------------------------------------\u001b[39m",
      "\u001b[31mNameError\u001b[39m                                 Traceback (most recent call last)",
      "\u001b[36mCell\u001b[39m\u001b[36m \u001b[39m\u001b[32mIn[1]\u001b[39m\u001b[32m, line 1\u001b[39m\n\u001b[32m----> \u001b[39m\u001b[32m1\u001b[39m cache = \u001b[43mCache\u001b[49m()\n\u001b[32m      3\u001b[39m engine = qmc.PoissonDisk(d=\u001b[32m2\u001b[39m, radius=\u001b[32m0.018\u001b[39m, rng=np.random.default_rng())\n\u001b[32m      4\u001b[39m sample = engine.random(\u001b[32m2000\u001b[39m)\n",
      "\u001b[31mNameError\u001b[39m: name 'Cache' is not defined"
     ]
    }
   ],
   "source": [
    "\n",
    "cache = Cache()\n",
    "\n",
    "engine = qmc.PoissonDisk(d=2, radius=0.018, rng=np.random.default_rng())\n",
    "sample = engine.random(2000)\n",
    "\n",
    "get_cache = False\n",
    "simulations = []\n",
    "\n",
    "if(get_cache):\n",
    "    simulations = dict(cache.get_figure_data(\"bifurcation\"))\n",
    "    sample = simulations[\"sample\"]\n",
    "\n",
    "for i, (p_sup, p_dp) in enumerate(sample):\n",
    "    params = Params(simulation_time=2, dt=0.001, I_stim=350*pA, I_vig=60*pA, stimulus_start=0.3, stimulus_end=0.35, p_sup=p_sup, p_dp=p_dp)\n",
    "\n",
    "    t_span_euler = np.arange(0, params.simulation_time, params.dt)\n",
    "\n",
    "    if(not get_cache):\n",
    "        model = LongRangeModel(params)\n",
    "        result = model.run()\n",
    "        simulations.append(result)\n",
    "\n",
    "        rE = result[0][:, np.where(t_span_euler == 1.8)[0][0], 0]*Hz\n",
    "        rE_early = result[0][:, np.where(t_span_euler == 0.2)[0][0], 0]*Hz\n",
    "    else:\n",
    "        rE = np.array(simulations[f\"{i}\"][\"rEs\"])[:, np.where(t_span_euler == 1.8)[0][0], 0]*Hz\n",
    "        rE_early = np.array(simulations[f\"{i}\"][\"rEs\"])[:, np.where(t_span_euler == 0.2)[0][0], 0]*Hz\n",
    "\n",
    "    colour = \"\"\n",
    "\n",
    "    if(np.all(rE > 1*Hz)): colour = \"red\"\n",
    "    elif(np.all(rE < 1*Hz)): colour = \"blue\"\n",
    "    elif(np.any(rE_early > 1*Hz)): colour = \"peru\"\n",
    "    else: colour = \"green\"\n",
    "\n",
    "    plt.scatter(p_dp, p_sup, s=10, color=colour)\n",
    "\n",
    "if(not get_cache):\n",
    "    data = {\"sample\": sample}\n",
    "\n",
    "    for i, sim in enumerate(simulations):\n",
    "        data[f\"{i}\"] = {\n",
    "            \"rEs\": sim[0],\n",
    "            \"rI\": sim[1],\n",
    "            \"sNMDA\": sim[2],\n",
    "            \"sAMPA\": sim[3],\n",
    "            \"sGABA\": sim[4],\n",
    "        }\n",
    "\n",
    "    cache.cache_figure_data(data, \"bifurcation\")\n",
    "\n",
    "# print(p_sup, p_dp)\n",
    "# plt.scatter(sample[:, 0], sample[:,1], s=20)\n",
    "plt.show()"
   ]
  },
  {
   "cell_type": "code",
   "execution_count": null,
   "metadata": {},
   "outputs": [],
   "source": []
  },
  {
   "cell_type": "code",
   "execution_count": null,
   "metadata": {},
   "outputs": [],
   "source": []
  }
 ],
 "metadata": {
  "kernelspec": {
   "display_name": ".venv",
   "language": "python",
   "name": "python3"
  },
  "language_info": {
   "codemirror_mode": {
    "name": "ipython",
    "version": 3
   },
   "file_extension": ".py",
   "mimetype": "text/x-python",
   "name": "python",
   "nbconvert_exporter": "python",
   "pygments_lexer": "ipython3",
   "version": "3.12.10"
  }
 },
 "nbformat": 4,
 "nbformat_minor": 2
}
